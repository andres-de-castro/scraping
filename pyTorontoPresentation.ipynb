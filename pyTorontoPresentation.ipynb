{
 "cells": [
  {
   "cell_type": "markdown",
   "metadata": {
    "collapsed": true,
    "slideshow": {
     "slide_type": "slide"
    }
   },
   "source": [
    "# Lessons Learned Scraping The Web\n",
    "## Hacking public, inflexbile APIs and discovering concurrency\n",
    "\n",
    "\n",
    "Andres De Castro\n",
    "\n",
    "https://github.com/andres-de-castro\n"
   ]
  },
  {
   "cell_type": "markdown",
   "metadata": {
    "collapsed": true,
    "slideshow": {
     "slide_type": "slide"
    }
   },
   "source": [
    "# The Problem\n",
    "\n",
    "* Obtuse APIs\n",
    "* 10k+ requests -> hours of completion time\n",
    "* Rendered javascript\n",
    "* Authentication/Rate Limiting"
   ]
  },
  {
   "cell_type": "markdown",
   "metadata": {
    "slideshow": {
     "slide_type": "slide"
    }
   },
   "source": [
    "# A simple example\n",
    "\n",
    "* Data is a tabular. Target exists in a table element (td) in a webpage\n",
    "* Interfacing with a server usually requires the following:\n",
    "    * An HTTP request handler (requests / urllib libraries)\n",
    "    * An HTML parser (bs4 / lxml)\n",
    "    * A container to store, modify and view the data (pandas)\n",
    "* We will interact with Morningstar's 'API' "
   ]
  },
  {
   "cell_type": "code",
   "execution_count": 1,
   "metadata": {
    "collapsed": false,
    "slideshow": {
     "slide_type": "slide"
    }
   },
   "outputs": [
    {
     "data": {
      "text/html": [
       "<div>\n",
       "<table border=\"1\" class=\"dataframe\">\n",
       "  <thead>\n",
       "    <tr style=\"text-align: right;\">\n",
       "      <th></th>\n",
       "      <th>Date</th>\n",
       "      <th>Ratio</th>\n",
       "    </tr>\n",
       "  </thead>\n",
       "  <tbody>\n",
       "    <tr>\n",
       "      <th>0</th>\n",
       "      <td>06/09/2014</td>\n",
       "      <td>7:1</td>\n",
       "    </tr>\n",
       "    <tr>\n",
       "      <th>1</th>\n",
       "      <td>02/28/2005</td>\n",
       "      <td>2:1</td>\n",
       "    </tr>\n",
       "    <tr>\n",
       "      <th>2</th>\n",
       "      <td>06/21/2000</td>\n",
       "      <td>2:1</td>\n",
       "    </tr>\n",
       "    <tr>\n",
       "      <th>3</th>\n",
       "      <td>06/16/1987</td>\n",
       "      <td>2:1</td>\n",
       "    </tr>\n",
       "  </tbody>\n",
       "</table>\n",
       "</div>"
      ],
      "text/plain": [
       "         Date Ratio\n",
       "0  06/09/2014   7:1\n",
       "1  02/28/2005   2:1\n",
       "2  06/21/2000   2:1\n",
       "3  06/16/1987   2:1"
      ]
     },
     "execution_count": 1,
     "metadata": {},
     "output_type": "execute_result"
    }
   ],
   "source": [
    "import pandas as pd\n",
    "\n",
    "url = 'http://performance.morningstar.com/Performance/stock/split-history.action?&t=AAPL'\n",
    "\n",
    "pd.read_html(url)[0]"
   ]
  },
  {
   "cell_type": "markdown",
   "metadata": {
    "slideshow": {
     "slide_type": "slide"
    }
   },
   "source": [
    "# A not so simple example\n",
    "\n",
    "Target data lives in a table element\n",
    "\n",
    "http://www2.tse.or.jp/tseHpFront/JJK020010Action.do?Show=Show #3690"
   ]
  },
  {
   "cell_type": "code",
   "execution_count": 2,
   "metadata": {
    "collapsed": false,
    "slideshow": {
     "slide_type": "slide"
    }
   },
   "outputs": [
    {
     "name": "stdout",
     "output_type": "stream",
     "text": [
      "HTTP Error 502: Bad Gateway\n"
     ]
    }
   ],
   "source": [
    "# The naive approach\n",
    "\n",
    "url = 'http://quote.jpx.co.jp/jpx/template/quote.cgi?F=tmp/e_stock_detail&MKTN=T&QCODE=3690'\n",
    "\n",
    "try:\n",
    "    pd.read_html(url)\n",
    "except Exception as e:\n",
    "    print (str(e))"
   ]
  },
  {
   "cell_type": "markdown",
   "metadata": {
    "slideshow": {
     "slide_type": "slide"
    }
   },
   "source": [
    "# Frustration !\n",
    "## Lesson Learned # 1 - APIs aren't flexible"
   ]
  },
  {
   "cell_type": "markdown",
   "metadata": {
    "slideshow": {
     "slide_type": "slide"
    }
   },
   "source": [
    "Thought Process\n",
    "\n",
    "* Perhaps it knows it's the request module asking for data.\n",
    "* Can we trick the web server into thinking it is a web browser making the requests?\n"
   ]
  },
  {
   "cell_type": "markdown",
   "metadata": {
    "slideshow": {
     "slide_type": "slide"
    }
   },
   "source": [
    "# Enter Selenium\n",
    "\n",
    "* A fully featured web driver\n",
    "* Uses firefox by default\n",
    "* Used by QAs everywhere\n",
    "* Headless option with xvfb\n",
    "* Seems like a good solution, right?"
   ]
  },
  {
   "cell_type": "markdown",
   "metadata": {
    "slideshow": {
     "slide_type": "slide"
    }
   },
   "source": [
    "# Results\n",
    "\n",
    "* A full day of basic development time\n",
    "* Three days of debugging time\n",
    "* Requesting access for a web element that hasn't loaded -> Error\n",
    "* Multiple try-excepts\n",
    "* Completion time (3800 stocks) ~1 hour"
   ]
  },
  {
   "cell_type": "markdown",
   "metadata": {
    "slideshow": {
     "slide_type": "slide"
    }
   },
   "source": [
    "# Lesson Learned #2\n",
    "\n",
    "## Use the right tool for the job"
   ]
  },
  {
   "cell_type": "markdown",
   "metadata": {
    "slideshow": {
     "slide_type": "slide"
    }
   },
   "source": [
    "# Rethinking the approach\n",
    "\n",
    "## Let's revisit our target\n",
    "\n",
    "http://www2.tse.or.jp/tseHpFront/JJK020010Action.do?Show=Show"
   ]
  },
  {
   "cell_type": "markdown",
   "metadata": {
    "collapsed": false,
    "slideshow": {
     "slide_type": "slide"
    }
   },
   "source": [
    "%%bash\n",
    "\n",
    "curl 'http://quote.jpx.co.jp/jpx/template/quote.cgi?F=tmp/e_stock_detail&MKTN=T&QCODE=1301' -H 'Accept-Encoding: gzip, deflate, sdch' -H 'Accept-Language: en-US,en;q=0.8,es;q=0.6' -H 'Upgrade-Insecure-Requests: 1' -H 'User-Agent: Mozilla/5.0 (Macintosh; Intel Mac OS X 10_11_5) AppleWebKit/537.36 (KHTML, like Gecko) Chrome/51.0.2704.103 Safari/537.36' -H 'Accept: text/html,application/xhtml+xml,application/xml;q=0.9,image/webp,*/*;q=0.8' -H 'Referer: http://www2.tse.or.jp/tseHpFront/JJK020010Action.do' -H 'Cookie: TS4be622=5de6667395943132172f01acdabc66df16cd3f45e0bd3db2578e4e0e' -H 'Connection: keep-alive' -H 'Cache-Control: max-age=0' --compressed"
   ]
  },
  {
   "cell_type": "markdown",
   "metadata": {
    "slideshow": {
     "slide_type": "slide"
    }
   },
   "source": [
    "# Lesson Learned #3\n",
    "\n",
    "## Chrome dev tools / FF's firebug are your best friends"
   ]
  },
  {
   "cell_type": "markdown",
   "metadata": {
    "slideshow": {
     "slide_type": "slide"
    }
   },
   "source": [
    "# What next?\n",
    "\n",
    "* Parse the headers manually into requests\n",
    "* For loop through all the stock indices\n",
    "* Seems like a good idea?"
   ]
  },
  {
   "cell_type": "markdown",
   "metadata": {
    "slideshow": {
     "slide_type": "slide"
    }
   },
   "source": [
    "# Parse request headers\n",
    "\n",
    "* Use network tab in chrome / firefox\n",
    "* Extract request headers (akin to copy as cURL request)\n",
    "* Feed headers as dictionary into requests module"
   ]
  },
  {
   "cell_type": "markdown",
   "metadata": {
    "slideshow": {
     "slide_type": "slide"
    }
   },
   "source": [
    "http://curl.trillworks.com/\n",
    "\n",
    "* Feed it cURL request\n",
    "* Will return nicely formatted code for use with requests\n"
   ]
  },
  {
   "cell_type": "code",
   "execution_count": 7,
   "metadata": {
    "collapsed": false,
    "slideshow": {
     "slide_type": "slide"
    }
   },
   "outputs": [
    {
     "data": {
      "text/html": [
       "<div>\n",
       "<table border=\"1\" class=\"dataframe\">\n",
       "  <thead>\n",
       "    <tr style=\"text-align: right;\">\n",
       "      <th></th>\n",
       "      <th>Open</th>\n",
       "      <th>High</th>\n",
       "      <th>Low</th>\n",
       "      <th>Close</th>\n",
       "      <th>Volume</th>\n",
       "    </tr>\n",
       "    <tr>\n",
       "      <th>Date</th>\n",
       "      <th></th>\n",
       "      <th></th>\n",
       "      <th></th>\n",
       "      <th></th>\n",
       "      <th></th>\n",
       "    </tr>\n",
       "  </thead>\n",
       "  <tbody>\n",
       "    <tr>\n",
       "      <th>2016/07/06</th>\n",
       "      <td>945.0</td>\n",
       "      <td>962.0</td>\n",
       "      <td>935.0</td>\n",
       "      <td>961.0</td>\n",
       "      <td>178500</td>\n",
       "    </tr>\n",
       "    <tr>\n",
       "      <th>2016/07/07</th>\n",
       "      <td>961.0</td>\n",
       "      <td>972.0</td>\n",
       "      <td>938.0</td>\n",
       "      <td>945.0</td>\n",
       "      <td>99200</td>\n",
       "    </tr>\n",
       "    <tr>\n",
       "      <th>2016/07/08</th>\n",
       "      <td>940.0</td>\n",
       "      <td>947.0</td>\n",
       "      <td>901.0</td>\n",
       "      <td>904.0</td>\n",
       "      <td>238600</td>\n",
       "    </tr>\n",
       "    <tr>\n",
       "      <th>2016/07/11</th>\n",
       "      <td>917.0</td>\n",
       "      <td>986.0</td>\n",
       "      <td>917.0</td>\n",
       "      <td>964.0</td>\n",
       "      <td>220400</td>\n",
       "    </tr>\n",
       "    <tr>\n",
       "      <th>2016/07/12</th>\n",
       "      <td>982.0</td>\n",
       "      <td>1018.0</td>\n",
       "      <td>980.0</td>\n",
       "      <td>1015.0</td>\n",
       "      <td>144400</td>\n",
       "    </tr>\n",
       "    <tr>\n",
       "      <th>2016/07/13</th>\n",
       "      <td>1033.0</td>\n",
       "      <td>1050.0</td>\n",
       "      <td>1016.0</td>\n",
       "      <td>1040.0</td>\n",
       "      <td>188900</td>\n",
       "    </tr>\n",
       "    <tr>\n",
       "      <th>2016/07/14</th>\n",
       "      <td>1033.0</td>\n",
       "      <td>1048.0</td>\n",
       "      <td>1007.0</td>\n",
       "      <td>1030.0</td>\n",
       "      <td>106600</td>\n",
       "    </tr>\n",
       "    <tr>\n",
       "      <th>2016/07/15</th>\n",
       "      <td>1026.0</td>\n",
       "      <td>1052.0</td>\n",
       "      <td>1013.0</td>\n",
       "      <td>1019.0</td>\n",
       "      <td>109200</td>\n",
       "    </tr>\n",
       "    <tr>\n",
       "      <th>2016/07/19</th>\n",
       "      <td>1019.0</td>\n",
       "      <td>1038.0</td>\n",
       "      <td>1001.0</td>\n",
       "      <td>1018.0</td>\n",
       "      <td>75900</td>\n",
       "    </tr>\n",
       "    <tr>\n",
       "      <th>2016/07/20</th>\n",
       "      <td>1007.0</td>\n",
       "      <td>1009.0</td>\n",
       "      <td>981.0</td>\n",
       "      <td>1006.0</td>\n",
       "      <td>94300</td>\n",
       "    </tr>\n",
       "  </tbody>\n",
       "</table>\n",
       "</div>"
      ],
      "text/plain": [
       "              Open    High     Low   Close  Volume\n",
       "Date                                              \n",
       "2016/07/06   945.0   962.0   935.0   961.0  178500\n",
       "2016/07/07   961.0   972.0   938.0   945.0   99200\n",
       "2016/07/08   940.0   947.0   901.0   904.0  238600\n",
       "2016/07/11   917.0   986.0   917.0   964.0  220400\n",
       "2016/07/12   982.0  1018.0   980.0  1015.0  144400\n",
       "2016/07/13  1033.0  1050.0  1016.0  1040.0  188900\n",
       "2016/07/14  1033.0  1048.0  1007.0  1030.0  106600\n",
       "2016/07/15  1026.0  1052.0  1013.0  1019.0  109200\n",
       "2016/07/19  1019.0  1038.0  1001.0  1018.0   75900\n",
       "2016/07/20  1007.0  1009.0   981.0  1006.0   94300"
      ]
     },
     "execution_count": 7,
     "metadata": {},
     "output_type": "execute_result"
    }
   ],
   "source": [
    "import pandas as pd \n",
    "\n",
    "import requests\n",
    "from bs4 import BeautifulSoup\n",
    "from io import StringIO\n",
    "\n",
    "codes = ['9986', '9987', '9989', '9990'] #'9991', '9992', '9993', '9994', '9995', '9996']\n",
    "for code in codes: \n",
    "    headers = {\n",
    "        'User-Agent': 'Mozilla/5.0 (Windows NT 6.1) AppleWebKit/537.17 (KHTML, like Gecko)  Chrome/24.0.1312.57 Safari/537.17',\n",
    "        'Cookie': '__utma=139475176.428689694.1438095265.1439320455.1440102255.14; __utmz=139475176.1440102255.14.6.utmcsr=google|utmccn=(organic)|utmcmd=organic|utmctr=(not%20provided); TS4be622=c6390468d7aed6d150c549c11b5dbc654181b62eb149119556167434',\n",
    "        'Referer': 'http://www2.tse.or.jp/tseHpFront/JJK020010Action.do'\n",
    "            }\n",
    "\n",
    "    payload = {'F': 'tmp/e_stock_detail',\n",
    "            'MKTN': 'T',\n",
    "            'QCODE': str(code)\n",
    "            }\n",
    "\n",
    "    r = requests.post('http://quote.jpx.co.jp/jpx/template/quote.cgi?F=tmp/e_stock_detail&MKTN=T&QCODE=' + str(code), data=payload, headers=headers)\n",
    "    soup = BeautifulSoup(r.content, 'lxml')\n",
    "    values = soup.find(id=\"histData\")['value']\n",
    "\n",
    "    df = pd.DataFrame.from_csv(StringIO(values), sep=\",\", parse_dates=False, header=None)\n",
    "    df = df.drop(df.columns[-1],1)\n",
    "    df.columns = ['Open', 'High', 'Low', 'Close', 'Volume']\n",
    "    df.index.names = ['Date']\n",
    "\n",
    "df.tail(10)"
   ]
  },
  {
   "cell_type": "markdown",
   "metadata": {
    "slideshow": {
     "slide_type": "slide"
    }
   },
   "source": [
    "# Still too slow for production means\n",
    "\n",
    "* Completion time ~ 40 minutes (Only 33% faster) than selenium\n",
    "* Prone to failure (timeout during job)"
   ]
  },
  {
   "cell_type": "markdown",
   "metadata": {
    "slideshow": {
     "slide_type": "slide"
    }
   },
   "source": [
    "# Concurrency\n",
    "* Process spends a great deal of time waiting on a request's completion\n",
    "* We'll exploit the ability to make multiple requests\n",
    "* Pass a collection of URL's + a function to transform the data received\n",
    "\n",
    "# Problems\n",
    "* Production using Ubuntu LTS -> Restricted to py2.6 & 3.4\n",
    "* async module not implemented until 3.5\n",
    "* Luckily for us we have the twisted/tornado frameworks (also backwards compatible in py3.x)"
   ]
  },
  {
   "cell_type": "markdown",
   "metadata": {
    "slideshow": {
     "slide_type": "slide"
    }
   },
   "source": [
    "# Lesson Learned #4\n",
    "\n",
    "## Most of the hard work has already been done for you"
   ]
  },
  {
   "cell_type": "code",
   "execution_count": 8,
   "metadata": {
    "collapsed": false,
    "slideshow": {
     "slide_type": "slide"
    }
   },
   "outputs": [],
   "source": [
    "import sys\n",
    "\n",
    "from tornado import gen, ioloop\n",
    "from tornado.httpclient import AsyncHTTPClient, HTTPRequest\n",
    "from tornado.queues import Queue\n",
    "\n",
    "class Scraper():\n",
    "    \n",
    "    @gen.coroutine\n",
    "    def read(self, destinations):\n",
    "        for url in destinations:\n",
    "            yield self.queue.put(url)\n",
    "\n",
    "    @gen.coroutine\n",
    "    def get(self, transform, headers, connect_timeout, request_timeout, http_client):\n",
    "        while True:\n",
    "            url = yield self.queue.get()\n",
    "            try:\n",
    "                request = HTTPRequest(url,\n",
    "                                    connect_timeout=connect_timeout,\n",
    "                                    request_timeout=request_timeout,\n",
    "                                    method=\"GET\",\n",
    "                                    headers = headers\n",
    "                )\n",
    "            except Exception as e:\n",
    "                sys.stderr.write('Destination {0} returned error {1}'.format(url, str(e) + '\\n'))\n",
    "\n",
    "            future = self.http_client.fetch(request)\n",
    "\n",
    "            def done_callback(future):\n",
    "                body = future.result().body\n",
    "                url = future.result().effective_url\n",
    "                transform(body, url=url)\n",
    "                self.queue.task_done()\n",
    "\n",
    "            try:\n",
    "                future.add_done_callback(done_callback)\n",
    "            except Exception as e:\n",
    "                sys.stderr.write(str(e))\n",
    "                queue.put(url)\n"
   ]
  },
  {
   "cell_type": "code",
   "execution_count": 5,
   "metadata": {
    "collapsed": false,
    "slideshow": {
     "slide_type": "slide"
    }
   },
   "outputs": [
    {
     "name": "stderr",
     "output_type": "stream",
     "text": [
      "4930  has returned 0 values. check if deprecated\n",
      "6200  has returned 0 values. check if deprecated\n",
      "6531  has returned 0 values. check if deprecated\n",
      "3470  has returned 0 values. check if deprecated\n",
      "3469  has returned 0 values. check if deprecated\n",
      "3471  has returned 0 values. check if deprecated\n",
      "3544  has returned 0 values. check if deprecated\n",
      "\n",
      "real\t3m49.665s\n",
      "user\t2m29.972s\n",
      "sys\t0m2.451s\n"
     ]
    }
   ],
   "source": [
    "%%bash \n",
    "\n",
    "time python tse.py"
   ]
  },
  {
   "cell_type": "code",
   "execution_count": 6,
   "metadata": {
    "collapsed": false,
    "slideshow": {
     "slide_type": "slide"
    }
   },
   "outputs": [
    {
     "data": {
      "text/html": [
       "<div>\n",
       "<table border=\"1\" class=\"dataframe\">\n",
       "  <thead>\n",
       "    <tr style=\"text-align: right;\">\n",
       "      <th></th>\n",
       "      <th>Stock</th>\n",
       "      <th>Date</th>\n",
       "      <th>Open</th>\n",
       "      <th>High</th>\n",
       "      <th>Low</th>\n",
       "      <th>Close</th>\n",
       "      <th>Volume</th>\n",
       "    </tr>\n",
       "  </thead>\n",
       "  <tbody>\n",
       "    <tr>\n",
       "      <th>0</th>\n",
       "      <td>3936</td>\n",
       "      <td>2016/07/20</td>\n",
       "      <td>10500.0</td>\n",
       "      <td>10590.0</td>\n",
       "      <td>10280.0</td>\n",
       "      <td>10280.0</td>\n",
       "      <td>4200</td>\n",
       "    </tr>\n",
       "    <tr>\n",
       "      <th>1</th>\n",
       "      <td>3934</td>\n",
       "      <td>2016/07/20</td>\n",
       "      <td>2380.0</td>\n",
       "      <td>2425.0</td>\n",
       "      <td>2380.0</td>\n",
       "      <td>2395.0</td>\n",
       "      <td>3300</td>\n",
       "    </tr>\n",
       "    <tr>\n",
       "      <th>2</th>\n",
       "      <td>3932</td>\n",
       "      <td>2016/07/20</td>\n",
       "      <td>2874.0</td>\n",
       "      <td>3220.0</td>\n",
       "      <td>2870.0</td>\n",
       "      <td>3220.0</td>\n",
       "      <td>657400</td>\n",
       "    </tr>\n",
       "    <tr>\n",
       "      <th>3</th>\n",
       "      <td>3935</td>\n",
       "      <td>2016/07/20</td>\n",
       "      <td>2407.0</td>\n",
       "      <td>2688.0</td>\n",
       "      <td>2380.0</td>\n",
       "      <td>2594.0</td>\n",
       "      <td>118300</td>\n",
       "    </tr>\n",
       "    <tr>\n",
       "      <th>4</th>\n",
       "      <td>3929</td>\n",
       "      <td>2016/07/20</td>\n",
       "      <td>1210.0</td>\n",
       "      <td>1250.0</td>\n",
       "      <td>1208.0</td>\n",
       "      <td>1219.0</td>\n",
       "      <td>6100</td>\n",
       "    </tr>\n",
       "    <tr>\n",
       "      <th>5</th>\n",
       "      <td>9966</td>\n",
       "      <td>2016/07/20</td>\n",
       "      <td>1681.0</td>\n",
       "      <td>1704.0</td>\n",
       "      <td>1677.0</td>\n",
       "      <td>1684.0</td>\n",
       "      <td>3300</td>\n",
       "    </tr>\n",
       "    <tr>\n",
       "      <th>6</th>\n",
       "      <td>9967</td>\n",
       "      <td>2016/07/20</td>\n",
       "      <td>NaN</td>\n",
       "      <td>NaN</td>\n",
       "      <td>NaN</td>\n",
       "      <td>NaN</td>\n",
       "      <td>0</td>\n",
       "    </tr>\n",
       "    <tr>\n",
       "      <th>7</th>\n",
       "      <td>9969</td>\n",
       "      <td>2016/07/20</td>\n",
       "      <td>495.0</td>\n",
       "      <td>495.0</td>\n",
       "      <td>493.0</td>\n",
       "      <td>494.0</td>\n",
       "      <td>1900</td>\n",
       "    </tr>\n",
       "    <tr>\n",
       "      <th>8</th>\n",
       "      <td>9974</td>\n",
       "      <td>2016/07/20</td>\n",
       "      <td>4090.0</td>\n",
       "      <td>4200.0</td>\n",
       "      <td>4070.0</td>\n",
       "      <td>4200.0</td>\n",
       "      <td>15200</td>\n",
       "    </tr>\n",
       "    <tr>\n",
       "      <th>9</th>\n",
       "      <td>9976</td>\n",
       "      <td>2016/07/20</td>\n",
       "      <td>659.0</td>\n",
       "      <td>659.0</td>\n",
       "      <td>659.0</td>\n",
       "      <td>659.0</td>\n",
       "      <td>32000</td>\n",
       "    </tr>\n",
       "  </tbody>\n",
       "</table>\n",
       "</div>"
      ],
      "text/plain": [
       "   Stock        Date     Open     High      Low    Close   Volume\n",
       "0   3936  2016/07/20  10500.0  10590.0  10280.0  10280.0     4200\n",
       "1   3934  2016/07/20   2380.0   2425.0   2380.0   2395.0     3300\n",
       "2   3932  2016/07/20   2874.0   3220.0   2870.0   3220.0   657400\n",
       "3   3935  2016/07/20   2407.0   2688.0   2380.0   2594.0   118300\n",
       "4   3929  2016/07/20   1210.0   1250.0   1208.0   1219.0     6100\n",
       "5   9966  2016/07/20   1681.0   1704.0   1677.0   1684.0     3300\n",
       "6   9967  2016/07/20      NaN      NaN      NaN      NaN        0\n",
       "7   9969  2016/07/20    495.0    495.0    493.0    494.0     1900\n",
       "8   9974  2016/07/20   4090.0   4200.0   4070.0   4200.0    15200\n",
       "9   9976  2016/07/20    659.0    659.0    659.0    659.0    32000"
      ]
     },
     "execution_count": 6,
     "metadata": {},
     "output_type": "execute_result"
    }
   ],
   "source": [
    "pd.read_csv('tse.csv').head(10)"
   ]
  },
  {
   "cell_type": "markdown",
   "metadata": {
    "slideshow": {
     "slide_type": "slide"
    }
   },
   "source": [
    "# Closing notes\n",
    "\n",
    "## On Concurrency \n",
    "    * David Beazley's PyCon talk Concurrency From The Ground Up\n",
    "    * https://www.youtube.com/watch?v=MCs5OvhV9S4\n",
    "    * Tornado library\n",
    "\n",
    "## Dealing with js rendered webpages\n",
    "    * phantomJS (ghost.py)\n",
    "    * Selenium\n",
    "    \n",
    "## Live presentation made with RISE\n",
    "    * https://github.com/damianavila/RISE"
   ]
  }
 ],
 "metadata": {
  "celltoolbar": "Slideshow",
  "kernelspec": {
   "display_name": "Python 3",
   "language": "python",
   "name": "python3"
  },
  "language_info": {
   "codemirror_mode": {
    "name": "ipython",
    "version": 3
   },
   "file_extension": ".py",
   "mimetype": "text/x-python",
   "name": "python",
   "nbconvert_exporter": "python",
   "pygments_lexer": "ipython3",
   "version": "3.5.2"
  }
 },
 "nbformat": 4,
 "nbformat_minor": 0
}
